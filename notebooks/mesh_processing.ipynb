{
 "cells": [
  {
   "cell_type": "code",
   "execution_count": null,
   "metadata": {},
   "outputs": [],
   "source": [
    "# The first draft of the notebook was provided by Magdalena Wysocki from TUM CAMP"
   ]
  },
  {
   "cell_type": "code",
   "execution_count": null,
   "metadata": {},
   "outputs": [],
   "source": [
    "# Enable inline plotting for matplotlib, which displays plots directly in the notebook.\n",
    "%matplotlib inline\n",
    "\n",
    "# Load the autoreload extension, which automatically reloads modules before executing code.\n",
    "%load_ext autoreload\n",
    "\n",
    "# Reload all modules (except those excluded by %aimport) every time before executing the Python code typed.\n",
    "%autoreload 2"
   ]
  },
  {
   "cell_type": "code",
   "execution_count": null,
   "metadata": {
    "ExecuteTime": {
     "end_time": "2024-06-26T14:04:21.256204700Z",
     "start_time": "2024-06-26T14:04:17.613891900Z"
    }
   },
   "outputs": [],
   "source": [
    "import open3d as o3d\n",
    "import matplotlib.pyplot as plt\n",
    "import numpy as np"
   ]
  },
  {
   "cell_type": "code",
   "execution_count": null,
   "metadata": {
    "ExecuteTime": {
     "end_time": "2024-06-26T14:04:21.268204100Z",
     "start_time": "2024-06-26T14:04:21.261206Z"
    },
    "jupyter": {
     "outputs_hidden": false
    }
   },
   "outputs": [],
   "source": [
    "def change_color_and_save(color, filename):\n",
    "    mesh = o3d.io.read_triangle_mesh(filename)\n",
    "    mesh.paint_uniform_color(color)\n",
    "    o3d.io.write_triangle_mesh(filename, mesh)\n",
    "    print(f'Mesh saved to {filename}')\n",
    "\n",
    "def hex_to_rgb(hex_code):\n",
    "    hex_code = hex_code.lstrip('#')\n",
    "    return tuple(int(hex_code[i:i+2], 16) for i in (0, 2, 4))"
   ]
  },
  {
   "cell_type": "code",
   "execution_count": null,
   "metadata": {
    "ExecuteTime": {
     "end_time": "2024-06-26T14:04:21.308837100Z",
     "start_time": "2024-06-26T14:04:21.261206Z"
    },
    "jupyter": {
     "outputs_hidden": false
    }
   },
   "outputs": [],
   "source": [
    "hex_code = '#64b231'\n",
    "color = [f / 255 for f in hex_to_rgb(hex_code)]\n",
    "change_color_and_save(color, \"mesh_la_0_step_5.ply\")"
   ]
  },
  {
   "cell_type": "code",
   "execution_count": null,
   "metadata": {
    "ExecuteTime": {
     "end_time": "2024-06-26T14:04:25.635406700Z",
     "start_time": "2024-06-26T14:04:21.310837300Z"
    },
    "jupyter": {
     "outputs_hidden": false
    }
   },
   "outputs": [],
   "source": [
    "def read_mesh(file_path):\n",
    "    return o3d.io.read_triangle_mesh(file_path)\n",
    "\n",
    "def capture_mesh_image(mesh, angle=[0, 0, 0], width=800, height=800):\n",
    "    vis = o3d.visualization.Visualizer()\n",
    "    vis.create_window(visible=False, width=width, height=height)\n",
    "    vis.add_geometry(mesh)\n",
    "    ctr = vis.get_view_control()\n",
    "    ctr.rotate(angle[0], angle[1], angle[2])\n",
    "    vis.poll_events()\n",
    "    vis.update_renderer()\n",
    "    image = vis.capture_screen_float_buffer(True)\n",
    "    vis.destroy_window()\n",
    "    return image\n",
    "\n",
    "def plot_meshes(mesh_files):\n",
    "    meshes = [read_mesh(file) for file in mesh_files]\n",
    "    images = [capture_mesh_image(mesh) for mesh in meshes]\n",
    "\n",
    "    fig, axs = plt.subplots(1, 5, figsize=(15, 3))\n",
    "    for ax, img in zip(axs, images):\n",
    "        ax.imshow(img)\n",
    "        ax.axis('off')\n",
    "    plt.tight_layout()\n",
    "    plt.show()\n",
    "    \n",
    "mesh_files = ['gt_mesh.ply', 'mesh_la_0_step_1.ply', 'mesh_la_0_step_5.ply', 'mesh_la_0_step_10.ply', 'mesh_la_0_step_20.ply']\n",
    "plot_meshes(mesh_files)"
   ]
  },
  {
   "cell_type": "code",
   "execution_count": null,
   "metadata": {
    "ExecuteTime": {
     "end_time": "2024-06-26T14:04:27.091353700Z",
     "start_time": "2024-06-26T14:04:25.643583Z"
    },
    "jupyter": {
     "outputs_hidden": false
    }
   },
   "outputs": [],
   "source": [
    "\n",
    "def read_mesh(file_path):\n",
    "    return o3d.io.read_triangle_mesh(file_path)\n",
    "\n",
    "def compute_distances(mesh1, mesh2):\n",
    "    # Sample points from mesh2 to form a point cloud\n",
    "    pcd2 = mesh2.sample_points_uniformly(number_of_points=10000)\n",
    "    \n",
    "    # Compute the distance from each vertex in mesh1 to the nearest point in pcd2\n",
    "    pcd1 = mesh1.sample_points_uniformly(number_of_points=10000)\n",
    "    distances = pcd1.compute_point_cloud_distance(pcd2)\n",
    "    distances = (distances - np.min(distances)) / (np.max(distances) - np.min(distances))\n",
    "    \n",
    "    return np.asarray(distances)\n",
    "\n",
    "def color_mesh_by_distances(mesh, distances):\n",
    "    # Normalize the distances for coloring\n",
    "    \n",
    "    colors = plt.get_cmap('jet')(distances)[:, :3]  # Using the jet colormap\n",
    "    mesh.vertex_colors = o3d.utility.Vector3dVector(colors)\n",
    "    return mesh\n",
    "\n",
    "def capture_mesh_image(mesh, angle=[90, 0, 0], width=800, height=800):\n",
    "    vis = o3d.visualization.Visualizer()\n",
    "    vis.create_window(visible=False, width=width, height=height)\n",
    "    vis.add_geometry(mesh)\n",
    "    ctr = vis.get_view_control()\n",
    "    ctr.rotate(angle[0], angle[1], angle[2])\n",
    "    vis.poll_events()\n",
    "    vis.update_renderer()\n",
    "    image = vis.capture_screen_float_buffer(True)\n",
    "    vis.destroy_window()\n",
    "    return image\n",
    "\n",
    "def plot_meshes_with_differences(mesh1, other_meshes):\n",
    "    images = []\n",
    "    \n",
    "    # Process each mesh\n",
    "    for mesh in other_meshes:\n",
    "        distances = compute_distances(mesh1, mesh)\n",
    "        print(distances)\n",
    "        colored_mesh1 = color_mesh_by_distances(mesh1, distances)\n",
    "        images.append(capture_mesh_image(colored_mesh1))\n",
    "\n",
    "    # Plot the images\n",
    "    fig, axs = plt.subplots(1, len(other_meshes), figsize=(15, 3))\n",
    "    for ax, img in zip(axs, images):\n",
    "        ax.imshow(img)\n",
    "        ax.axis('off')\n",
    "    plt.tight_layout()\n",
    "    plt.show()\n",
    "    \n",
    "# Replace these with your actual mesh file paths\n",
    "mesh_files = ['gt_mesh.ply', 'mesh_la_0_step_1.ply', 'mesh_la_0_step_5.ply', 'mesh_la_0_step_10.ply', 'mesh_la_0_step_20.ply']\n",
    "\n",
    "# Read the meshes\n",
    "mesh1 = read_mesh(mesh_files[0])\n",
    "other_meshes = [read_mesh(file) for file in mesh_files[1:]]\n",
    "\n",
    "# Plot the differences\n",
    "plot_meshes_with_differences(mesh1, other_meshes)"
   ]
  },
  {
   "cell_type": "code",
   "execution_count": null,
   "metadata": {
    "ExecuteTime": {
     "end_time": "2024-06-26T14:04:29.934438Z",
     "start_time": "2024-06-26T14:04:27.097876900Z"
    },
    "jupyter": {
     "outputs_hidden": false
    }
   },
   "outputs": [],
   "source": [
    "import pyvista as pv\n",
    "import numpy as np\n",
    "from glob import glob\n",
    "from tqdm import tqdm \n",
    "gt = pv.read('gt_mesh.ply')\n",
    "\n",
    "# # \n",
    "# p = pv.Plotter()\n",
    "# p.add_mesh(to_compare, scalars=\"distances\", smooth_shading=True)\n",
    "# p.add_mesh(gt, color=True, opacity=0.75, smooth_shading=True)\n",
    "# p.show()\n",
    "\n",
    "p = pv.Plotter(shape=(2, 2))\n",
    "p.subplot(0, 0)\n",
    "p.add_text(\"Render Window 0\", font_size=3)\n",
    "to_compare = pv.read('mesh_la_0_step_1.ply')\n",
    "closest_cells, closest_points = gt.find_closest_cell(to_compare.points, return_closest_point=True)\n",
    "d_exact = np.linalg.norm(to_compare.points - closest_points, axis=1)\n",
    "to_compare[\"distances\"] = d_exact\n",
    "p.add_mesh(to_compare, scalars=\"distances\", smooth_shading=True)\n",
    "p.add_mesh(gt, color=True, opacity=0.75, smooth_shading=True)\n",
    "\n",
    "p.subplot(0, 1)\n",
    "to_compare = pv.read('mesh_la_0_step_5.ply')\n",
    "closest_cells, closest_points = gt.find_closest_cell(to_compare.points, return_closest_point=True)\n",
    "d_exact = np.linalg.norm(to_compare.points - closest_points, axis=1)\n",
    "to_compare[\"distances\"] = d_exact\n",
    "p.add_text(\"Render Window 0\", font_size=3)\n",
    "p.add_mesh(to_compare, scalars=\"distances\", smooth_shading=True)\n",
    "p.add_mesh(gt, color=True, opacity=0.75, smooth_shading=True)\n",
    "\n",
    "p.subplot(1, 0)\n",
    "to_compare = pv.read('mesh_la_0_step_10.ply')\n",
    "closest_cells, closest_points = gt.find_closest_cell(to_compare.points, return_closest_point=True)\n",
    "d_exact = np.linalg.norm(to_compare.points - closest_points, axis=1)\n",
    "to_compare[\"distances\"] = d_exact\n",
    "p.add_text(\"Render Window 0\", font_size=3)\n",
    "p.add_mesh(to_compare, scalars=\"distances\", smooth_shading=True)\n",
    "p.add_mesh(gt, color=True, opacity=0.75, smooth_shading=True)\n",
    "\n",
    "p.subplot(1, 1)\n",
    "to_compare = pv.read('mesh_la_0_step_20.ply')\n",
    "closest_cells, closest_points = gt.find_closest_cell(to_compare.points, return_closest_point=True)\n",
    "d_exact = np.linalg.norm(to_compare.points - closest_points, axis=1)\n",
    "to_compare[\"distances\"] = d_exact\n",
    "p.add_text(\"Render Window 0\", font_size=3)\n",
    "p.add_mesh(to_compare, scalars=\"distances\", smooth_shading=True)\n",
    "p.add_mesh(gt, color=True, opacity=0.75, smooth_shading=True)\n",
    "\n",
    "\n",
    "# Display the window\n",
    "p.show()"
   ]
  },
  {
   "cell_type": "code",
   "execution_count": null,
   "metadata": {
    "ExecuteTime": {
     "end_time": "2024-06-26T14:04:31.691660700Z",
     "start_time": "2024-06-26T14:04:29.957535600Z"
    },
    "jupyter": {
     "outputs_hidden": false
    }
   },
   "outputs": [],
   "source": [
    "import colorcet as cc\n",
    "\n",
    "p = pv.Plotter(shape=(2, 2), border=False)\n",
    "p.subplot(0, 0)\n",
    "p.add_text(\"100% data points\", font_size=10)\n",
    "to_compare = pv.read('mesh_la_0_step_1.ply')\n",
    "closest_cells, closest_points = gt.find_closest_cell(to_compare.points, return_closest_point=True)\n",
    "d_exact = np.linalg.norm(to_compare.points - closest_points, axis=1)\n",
    "to_compare[\"distances\"] = d_exact\n",
    "p.add_mesh(to_compare, scalars=\"distances\", cmap=cc.CET_L18)\n",
    "p.add_mesh(gt, color=True, opacity=0.2, smooth_shading=True, show_edges=True)\n",
    "\n",
    "p.subplot(0, 1)\n",
    "to_compare = pv.read('mesh_la_0_step_5.ply')\n",
    "closest_cells, closest_points = gt.find_closest_cell(to_compare.points, return_closest_point=True)\n",
    "d_exact = np.linalg.norm(to_compare.points - closest_points, axis=1)\n",
    "to_compare[\"distances\"] = d_exact\n",
    "p.add_text(\"20% data points\", font_size=10)\n",
    "p.add_mesh(to_compare, scalars=\"distances\", cmap=cc.CET_L18)\n",
    "# p.add_mesh(gt, color=True, opacity=0.2, smooth_shading=True)\n",
    "\n",
    "p.subplot(1, 0)\n",
    "to_compare = pv.read('mesh_la_0_step_10.ply')\n",
    "closest_cells, closest_points = gt.find_closest_cell(to_compare.points, return_closest_point=True)\n",
    "d_exact = np.linalg.norm(to_compare.points - closest_points, axis=1)\n",
    "to_compare[\"distances\"] = d_exact\n",
    "p.add_text(\"10% data points\", font_size=10)\n",
    "p.add_mesh(to_compare, scalars=\"distances\", cmap=cc.CET_L18)\n",
    "p.add_mesh(gt, color=True, opacity=0.2, smooth_shading=True)\n",
    "\n",
    "p.subplot(1, 1)\n",
    "to_compare = pv.read('mesh_la_0_step_20.ply')\n",
    "to_compare = to_compare.connectivity('largest')\n",
    "closest_cells, closest_points = gt.find_closest_cell(to_compare.points, return_closest_point=True)\n",
    "d_exact = np.linalg.norm(to_compare.points - closest_points, axis=1)\n",
    "to_compare[\"distances\"] = d_exact\n",
    "\n",
    "p.add_text(\"5% data points\", font_size=10)\n",
    "p.add_mesh(to_compare, scalars=\"distances\", cmap=cc.CET_L18)\n",
    "p.add_mesh(gt, color=True, opacity=0.2, smooth_shading=True)\n",
    "\n",
    "p.link_views()  # link all the views\n",
    "# Set a camera position to all linked views\n",
    "\n",
    "# Display the window\n",
    "p.show()"
   ]
  },
  {
   "cell_type": "code",
   "execution_count": null,
   "metadata": {
    "ExecuteTime": {
     "end_time": "2024-06-26T14:04:32.636513800Z",
     "start_time": "2024-06-26T14:04:31.691147300Z"
    },
    "jupyter": {
     "outputs_hidden": false
    }
   },
   "outputs": [],
   "source": [
    "import colorcet as cc\n",
    "\n",
    "p = pv.Plotter(shape=(2, 2), border=False)\n",
    "p.subplot(0, 0)\n",
    "p.add_text(\"100% data points\", font_size=10)\n",
    "to_compare = pv.read('mesh_la_0_step_1.ply')\n",
    "closest_cells, closest_points = gt.find_closest_cell(to_compare.points, return_closest_point=True)\n",
    "d_exact = np.linalg.norm(to_compare.points - closest_points, axis=1)\n",
    "to_compare[\"distances\"] = d_exact\n",
    "p.add_mesh(to_compare, scalars=\"distances\", cmap=cc.CET_L18)\n",
    "p.add_mesh(gt, color=True, opacity=0.2, smooth_shading=True, show_edges=True)\n",
    "\n",
    "p.subplot(0, 1)\n",
    "to_compare = pv.read('mesh_la_0_step_5.ply')\n",
    "closest_cells, closest_points = gt.find_closest_cell(to_compare.points, return_closest_point=True)\n",
    "d_exact = np.linalg.norm(to_compare.points - closest_points, axis=1)\n",
    "to_compare[\"distances\"] = d_exact\n",
    "p.add_text(\"20% data points\", font_size=10)\n",
    "p.add_mesh(to_compare, scalars=\"distances\", cmap=cc.CET_L18)\n",
    "# p.add_mesh(gt, color=True, opacity=0.2, smooth_shading=True)\n",
    "\n",
    "p.subplot(1, 0)\n",
    "to_compare = pv.read('mesh_la_0_step_10.ply')\n",
    "closest_cells, closest_points = gt.find_closest_cell(to_compare.points, return_closest_point=True)\n",
    "d_exact = np.linalg.norm(to_compare.points - closest_points, axis=1)\n",
    "to_compare[\"distances\"] = d_exact\n",
    "p.add_text(\"10% data points\", font_size=10)\n",
    "p.add_mesh(to_compare, scalars=\"distances\", cmap=cc.CET_L18)\n",
    "p.add_mesh(gt, color=True, opacity=0.2, smooth_shading=True)\n",
    "\n",
    "p.subplot(1, 1)\n",
    "# to_compare = pv.read('mesh_la_0_step_20.ply')\n",
    "# to_compare = to_compare.connectivity('largest')\n",
    "to_compare = gt\n",
    "closest_cells, closest_points = gt.find_closest_cell(to_compare.points, return_closest_point=True)\n",
    "d_exact = np.linalg.norm(to_compare.points - closest_points, axis=1)\n",
    "to_compare[\"distances\"] = d_exact\n",
    "\n",
    "p.add_text(\"Ground Truth\", font_size=10)\n",
    "p.add_mesh(to_compare, scalars=\"distances\", cmap=cc.CET_L18)\n",
    "p.add_mesh(gt, color=True, opacity=0.2, smooth_shading=True)\n",
    "\n",
    "p.link_views()  # link all the views\n",
    "# Set a camera position to all linked views\n",
    "\n",
    "# Display the window\n",
    "p.show()"
   ]
  },
  {
   "cell_type": "code",
   "execution_count": null,
   "metadata": {
    "ExecuteTime": {
     "end_time": "2024-06-26T14:04:33.530505900Z",
     "start_time": "2024-06-26T14:04:32.634513800Z"
    },
    "jupyter": {
     "outputs_hidden": false
    }
   },
   "outputs": [],
   "source": [
    "import colorcet as cc\n",
    "\n",
    "p = pv.Plotter(shape=(2, 2), border=False)\n",
    "p.subplot(0, 0)\n",
    "p.add_text(\"100% data points\", font_size=10)\n",
    "to_compare = pv.read('mesh_la_0_step_1.ply')\n",
    "closest_cells, closest_points = gt.find_closest_cell(to_compare.points, return_closest_point=True)\n",
    "d_exact = np.linalg.norm(to_compare.points - closest_points, axis=1)\n",
    "to_compare[\"distances\"] = d_exact\n",
    "p.add_mesh(to_compare, scalars=\"distances\", cmap=cc.CET_L18)\n",
    "p.add_mesh(gt, color=True, opacity=0.2, smooth_shading=True, show_edges=True)\n",
    "\n",
    "p.subplot(0, 1)\n",
    "to_compare = pv.read('mesh_la_0_step_5.ply')\n",
    "closest_cells, closest_points = gt.find_closest_cell(to_compare.points, return_closest_point=True)\n",
    "d_exact = np.linalg.norm(to_compare.points - closest_points, axis=1)\n",
    "to_compare[\"distances\"] = d_exact\n",
    "p.add_text(\"10% data points\", font_size=10)\n",
    "p.add_mesh(to_compare, scalars=\"distances\", cmap=cc.CET_L18)\n",
    "# p.add_mesh(gt, color=True, opacity=0.2, smooth_shading=True)\n",
    "\n",
    "p.subplot(1, 0)\n",
    "# shows clear interpolation between masks\n",
    "to_compare = pv.read('seg_inr_dani_step_10_two_nets_two_heads_corrected_20240614_124657.ply')\n",
    "closest_cells, closest_points = gt.find_closest_cell(to_compare.points, return_closest_point=True)\n",
    "d_exact = np.linalg.norm(to_compare.points - closest_points, axis=1)\n",
    "to_compare[\"distances\"] = d_exact\n",
    "p.add_text(\"10% data points -- two nets\", font_size=10)\n",
    "p.add_mesh(to_compare, scalars=\"distances\", cmap=cc.CET_L18)\n",
    "p.add_mesh(gt, color=True, opacity=0.2, smooth_shading=True)\n",
    "\n",
    "p.subplot(1, 1)\n",
    "# to_compare = pv.read('mesh_la_0_step_20.ply')\n",
    "# to_compare = to_compare.connectivity('largest')\n",
    "to_compare = gt\n",
    "closest_cells, closest_points = gt.find_closest_cell(to_compare.points, return_closest_point=True)\n",
    "d_exact = np.linalg.norm(to_compare.points - closest_points, axis=1)\n",
    "to_compare[\"distances\"] = d_exact\n",
    "\n",
    "p.add_text(\"Ground Truth\", font_size=10)\n",
    "p.add_mesh(to_compare, scalars=\"distances\", cmap=cc.CET_L18)\n",
    "p.add_mesh(gt, color=True, opacity=0.2, smooth_shading=True)\n",
    "\n",
    "p.link_views()  # link all the views\n",
    "# Set a camera position to all linked views\n",
    "\n",
    "# Display the window\n",
    "p.show()"
   ]
  },
  {
   "cell_type": "code",
   "execution_count": null,
   "metadata": {
    "ExecuteTime": {
     "end_time": "2024-06-26T14:04:35.416017100Z",
     "start_time": "2024-06-26T14:04:33.535514800Z"
    },
    "jupyter": {
     "outputs_hidden": false
    }
   },
   "outputs": [],
   "source": [
    "p = pv.Plotter(shape=(2, 2), border=False)\n",
    "p.subplot(0, 0)\n",
    "p.add_text(\"100% data points\", font_size=10)\n",
    "to_compare = pv.read('mesh_la_0_step_1.ply')\n",
    "closest_cells, closest_points = gt.find_closest_cell(to_compare.points, return_closest_point=True)\n",
    "d_exact = np.linalg.norm(to_compare.points - closest_points, axis=1)\n",
    "to_compare[\"distances\"] = d_exact\n",
    "p.add_mesh(to_compare, scalars=\"distances\", cmap=cc.CET_L18)\n",
    "p.add_mesh(gt, color=True, opacity=0.2, smooth_shading=True, show_edges=True)\n",
    "\n",
    "p.subplot(0, 1)\n",
    "to_compare = pv.read('mesh_la_0_step_5.ply')\n",
    "closest_cells, closest_points = gt.find_closest_cell(to_compare.points, return_closest_point=True)\n",
    "d_exact = np.linalg.norm(to_compare.points - closest_points, axis=1)\n",
    "to_compare[\"distances\"] = d_exact\n",
    "p.add_text(\"20% data points\", font_size=10)\n",
    "p.add_mesh(to_compare, scalars=\"distances\", cmap=cc.CET_L18)\n",
    "# p.add_mesh(gt, color=True, opacity=0.2, smooth_shading=True)\n",
    "\n",
    "p.subplot(1, 0)\n",
    "to_compare = pv.read('mesh_la_0_step_20_two_networks.ply')\n",
    "closest_cells, closest_points = gt.find_closest_cell(to_compare.points, return_closest_point=True)\n",
    "d_exact = np.linalg.norm(to_compare.points - closest_points, axis=1)\n",
    "to_compare[\"distances\"] = d_exact\n",
    "p.add_text(\"5% data points -- two networks\", font_size=10)\n",
    "p.add_mesh(to_compare, scalars=\"distances\", cmap=cc.CET_L18)\n",
    "p.add_mesh(gt, color=True, opacity=0.2, smooth_shading=True)\n",
    "\n",
    "p.subplot(1, 1)\n",
    "to_compare = pv.read('mesh_la_0_step_20.ply')\n",
    "# to_compare = to_compare.connectivity('largest')\n",
    "closest_cells, closest_points = gt.find_closest_cell(to_compare.points, return_closest_point=True)\n",
    "d_exact = np.linalg.norm(to_compare.points - closest_points, axis=1)\n",
    "to_compare[\"distances\"] = d_exact\n",
    "\n",
    "p.add_text(\"5% data points\", font_size=10)\n",
    "p.add_mesh(to_compare, scalars=\"distances\", cmap=cc.CET_L18)\n",
    "p.add_mesh(gt, color=True, opacity=0.2, smooth_shading=True)\n",
    "\n",
    "p.link_views()  # link all the views\n",
    "# Set a camera position to all linked views\n",
    "\n",
    "# Display the window\n",
    "p.show()"
   ]
  },
  {
   "cell_type": "code",
   "execution_count": null,
   "metadata": {
    "ExecuteTime": {
     "end_time": "2024-06-26T14:04:37.633027Z",
     "start_time": "2024-06-26T14:04:35.426463900Z"
    },
    "jupyter": {
     "outputs_hidden": false
    }
   },
   "outputs": [],
   "source": [
    "from skimage import measure\n",
    "\n",
    "def extract_surface_from_voxels(voxels):\n",
    "    # Apply the Marching Cubes algorithm\n",
    "    verts, faces, normals, _ = measure.marching_cubes(voxels, level=0.5)\n",
    "\n",
    "    # Create a mesh from the vertices and faces\n",
    "    mesh = o3d.geometry.TriangleMesh()\n",
    "    mesh.vertices = o3d.utility.Vector3dVector(verts)\n",
    "    mesh.triangles = o3d.utility.Vector3iVector(faces)\n",
    "    mesh.vertex_normals = o3d.utility.Vector3dVector(normals)\n",
    "\n",
    "    return mesh\n",
    "\n",
    "def save_mesh(mesh, filename):\n",
    "    o3d.io.write_triangle_mesh(filename, mesh)\n",
    "    print(f'Mesh saved to {filename}')\n",
    "la_0 = extract_surface_from_voxels(np.load(\"data/heart_beat/la_6.npy\", allow_pickle=True).item()[\"label\"])\n",
    "\n",
    "save_mesh(la_0, 'la_6.ply')\n",
    "\n",
    "la_0_mesh = pv.read(\"la_0.ply\")\n",
    "la_2_mesh = pv.read(\"la_2.ply\")\n",
    "la_4_mesh = pv.read(\"la_4.ply\")\n",
    "la_6_mesh = pv.read(\"la_6.ply\")\n",
    "la_8_mesh = pv.read(\"la_8.ply\")\n",
    "\n",
    "\n",
    "p = pv.Plotter(shape=(1, 6), border=False)\n",
    "p.subplot(0, 0)\n",
    "p.add_text(\"100% data points\", font_size=10)\n",
    "to_compare = pv.read('phase_0.ply')\n",
    "closest_cells, closest_points = la_0_mesh.find_closest_cell(to_compare.points, return_closest_point=True)\n",
    "d_exact = np.linalg.norm(to_compare.points - closest_points, axis=1)\n",
    "to_compare[\"distances\"] = d_exact\n",
    "p.add_mesh(to_compare, scalars=\"distances\", cmap=cc.CET_L18)\n",
    "p.add_mesh(la_0_mesh, color=True, opacity=0.2, smooth_shading=True, show_edges=True)\n",
    "\n",
    "p.subplot(0, 1)\n",
    "p.add_text(\"100% data points\", font_size=10)\n",
    "to_compare = pv.read('phase_0_5.ply')\n",
    "closest_cells, closest_points = la_0_mesh.find_closest_cell(to_compare.points, return_closest_point=True)\n",
    "d_exact = np.linalg.norm(to_compare.points - closest_points, axis=1)\n",
    "to_compare[\"distances\"] = d_exact\n",
    "p.add_mesh(to_compare, scalars=\"distances\", cmap=cc.CET_L18)\n",
    "p.add_mesh(la_0_mesh, color=True, opacity=0.2, smooth_shading=True, show_edges=True)\n",
    "\n",
    "p.subplot(0, 2)\n",
    "to_compare = pv.read('phase_1.ply')\n",
    "closest_cells, closest_points = la_2_mesh.find_closest_cell(to_compare.points, return_closest_point=True)\n",
    "d_exact = np.linalg.norm(to_compare.points - closest_points, axis=1)\n",
    "to_compare[\"distances\"] = d_exact\n",
    "p.add_text(\"20% data points\", font_size=10)\n",
    "p.add_mesh(to_compare, scalars=\"distances\", cmap=cc.CET_L18)\n",
    "p.add_mesh(la_2_mesh, color=True, opacity=0.2, smooth_shading=True)\n",
    "\n",
    "p.subplot(0, 3)\n",
    "to_compare = pv.read('phase_2.ply')\n",
    "closest_cells, closest_points = la_4_mesh.find_closest_cell(to_compare.points, return_closest_point=True)\n",
    "d_exact = np.linalg.norm(to_compare.points - closest_points, axis=1)\n",
    "to_compare[\"distances\"] = d_exact\n",
    "p.add_text(\"20% data points\", font_size=10)\n",
    "p.add_mesh(to_compare, scalars=\"distances\", cmap=cc.CET_L18)\n",
    "p.add_mesh(la_4_mesh, color=True, opacity=0.2, smooth_shading=True)\n",
    "\n",
    "p.subplot(0, 4)\n",
    "to_compare = pv.read('phase_3.ply')\n",
    "closest_cells, closest_points = la_6_mesh.find_closest_cell(to_compare.points, return_closest_point=True)\n",
    "d_exact = np.linalg.norm(to_compare.points - closest_points, axis=1)\n",
    "to_compare[\"distances\"] = d_exact\n",
    "p.add_text(\"20% data points\", font_size=10)\n",
    "p.add_mesh(to_compare, scalars=\"distances\", cmap=cc.CET_L18)\n",
    "p.add_mesh(la_6_mesh, color=True, opacity=0.2, smooth_shading=True)\n",
    "\n",
    "p.subplot(0, 5)\n",
    "to_compare = pv.read('phase_4.ply')\n",
    "closest_cells, closest_points = la_8_mesh.find_closest_cell(to_compare.points, return_closest_point=True)\n",
    "d_exact = np.linalg.norm(to_compare.points - closest_points, axis=1)\n",
    "to_compare[\"distances\"] = d_exact\n",
    "p.add_text(\"5% data points -- two networks\", font_size=10)\n",
    "p.add_mesh(to_compare, scalars=\"distances\", cmap=cc.CET_L18)\n",
    "p.add_mesh(la_8_mesh, color=True, opacity=0.2, smooth_shading=True)\n",
    "\n",
    "# p.subplot(1, 1)\n",
    "# to_compare = pv.read('mesh_la_0_step_20.ply')\n",
    "# # to_compare = to_compare.connectivity('largest')\n",
    "# closest_cells, closest_points = gt.find_closest_cell(to_compare.points, return_closest_point=True)\n",
    "# d_exact = np.linalg.norm(to_compare.points - closest_points, axis=1)\n",
    "# to_compare[\"distances\"] = d_exact\n",
    "# \n",
    "# p.add_text(\"5% data points\", font_size=10)\n",
    "# p.add_mesh(to_compare, scalars=\"distances\", cmap=cc.CET_L18)\n",
    "# p.add_mesh(gt, color=True, opacity=0.2, smooth_shading=True)\n",
    "\n",
    "p.link_views()  # link all the views\n",
    "# Set a camera position to all linked views\n",
    "\n",
    "# Display the window\n",
    "p.show()"
   ]
  },
  {
   "cell_type": "code",
   "execution_count": null,
   "metadata": {
    "ExecuteTime": {
     "end_time": "2024-06-26T14:04:37.644027400Z",
     "start_time": "2024-06-26T14:04:37.636028800Z"
    },
    "jupyter": {
     "outputs_hidden": false
    }
   },
   "outputs": [],
   "source": []
  },
  {
   "cell_type": "code",
   "execution_count": null,
   "metadata": {
    "ExecuteTime": {
     "end_time": "2024-06-26T14:04:37.645100500Z",
     "start_time": "2024-06-26T14:04:37.641027Z"
    },
    "jupyter": {
     "outputs_hidden": false
    }
   },
   "outputs": [],
   "source": []
  }
 ],
 "metadata": {
  "kernelspec": {
   "display_name": "Python (vis)",
   "language": "python",
   "name": "vis"
  },
  "language_info": {
   "codemirror_mode": {
    "name": "ipython",
    "version": 3
   },
   "file_extension": ".py",
   "mimetype": "text/x-python",
   "name": "python",
   "nbconvert_exporter": "python",
   "pygments_lexer": "ipython3",
   "version": "3.11.8"
  }
 },
 "nbformat": 4,
 "nbformat_minor": 5
}
